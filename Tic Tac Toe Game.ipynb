{
 "cells": [
  {
   "cell_type": "code",
   "execution_count": 1,
   "metadata": {},
   "outputs": [],
   "source": [
    "from IPython.display import clear_output"
   ]
  },
  {
   "cell_type": "code",
   "execution_count": 2,
   "metadata": {},
   "outputs": [],
   "source": [
    "def player_input():\n",
    "    while True:\n",
    "        first = input('You want choose X or O: ')\n",
    "        if first == 'X':\n",
    "            second = 'O'\n",
    "            break\n",
    "        elif first == 'O':\n",
    "            second = 'X'\n",
    "            break\n",
    "        else:\n",
    "            print('Enter X or O. Try Again')\n",
    "    return (first,second)"
   ]
  },
  {
   "cell_type": "code",
   "execution_count": 3,
   "metadata": {},
   "outputs": [],
   "source": [
    "def display_board(board):\n",
    "    clear_output()\n",
    "    print(board[2][0] + ' | ' + board[2][1] + ' | ' + board[2][2])\n",
    "    print(board[1][0] + ' | ' + board[1][1] + ' | ' + board[1][2])\n",
    "    print(board[0][0] + ' | ' + board[0][1] + ' | ' + board[0][2])"
   ]
  },
  {
   "cell_type": "code",
   "execution_count": 4,
   "metadata": {},
   "outputs": [],
   "source": [
    "def check_game(board, marker):\n",
    "    flag1 = False\n",
    "    flag2 = False\n",
    "    for i in range(3):\n",
    "        for j in range(3):\n",
    "            if board[i][j].isspace():\n",
    "                flag1 = True\n",
    "                break\n",
    "    if flag1:\n",
    "        flag2 = is_win(board, marker)\n",
    "        if flag2:\n",
    "            print('Congratulation! Player {} won.'.format(marker))\n",
    "    return (flag1,flag2)"
   ]
  },
  {
   "cell_type": "code",
   "execution_count": 5,
   "metadata": {},
   "outputs": [],
   "source": [
    "def is_win(board, marker):\n",
    "    flag = False\n",
    "    for i in range(3):\n",
    "        if (not board[0][i].isspace()):\n",
    "            if (board[0][i] == board[1][i] == board[2][i]):\n",
    "                flag = True\n",
    "                break\n",
    "        if (not board[i][0].isspace()):\n",
    "            if (board[i][0] == board[i][1] == board[i][2]):\n",
    "                flag = True\n",
    "                break\n",
    "        if (not board[1][1].isspace()):\n",
    "            if (board[0][0] == board[1][1] == board[2][2]) or (board[2][0] == board[1][1] == board[0][2]):\n",
    "                flag = True\n",
    "                break\n",
    "    return flag"
   ]
  },
  {
   "cell_type": "code",
   "execution_count": 6,
   "metadata": {},
   "outputs": [],
   "source": [
    "def play_game():\n",
    "    \n",
    "    board =  [['   ' for i in range(3)] for j in range(3)] \n",
    "    display_board(board)\n",
    "    player1_mark, player2_mark = player_input()\n",
    "    print('Player 1 marker assigned: '+player1_mark)\n",
    "    print('Player 2 marker assigned: '+player2_mark)\n",
    "    \n",
    "    while True:\n",
    "\n",
    "        #Player 1 Plays\n",
    "        while True:\n",
    "            pos1 = input('Player {}: Enter your marking postion: '.format(player1_mark))\n",
    "            try:\n",
    "                x,y = pos1.split()\n",
    "                x = int(x)\n",
    "                y = int(y)\n",
    "                if board[x][y].isspace():\n",
    "                    board[x][y] = player1_mark.center(len(player1_mark)+2)\n",
    "                    print(board[x][y])\n",
    "                    display_board(board)\n",
    "                    break\n",
    "                else:\n",
    "                    print('Give a empty position')\n",
    "            except:\n",
    "                print('Give a proper position')\n",
    "\n",
    "       #Check end game\n",
    "        flag1,flag2 = check_game(board,player1_mark)\n",
    "        if (not flag1) or (flag2):\n",
    "            if not flag2:\n",
    "                print('Game ends with a draw')\n",
    "            break\n",
    "        \n",
    "        #Player 2 Plays\n",
    "        while True:\n",
    "            pos2 = input('Player {}: Enter your marking postion: '.format(player2_mark))\n",
    "            try:\n",
    "                x,y = pos2.split()\n",
    "                x = int(x)\n",
    "                y = int(y)\n",
    "                if board[x][y].isspace():\n",
    "                    board[x][y] = player2_mark.center(len(player2_mark)+2)\n",
    "                    print(board[x][y])\n",
    "                    display_board(board)\n",
    "                    break\n",
    "                else:\n",
    "                    print('Give a empty position') \n",
    "            except:\n",
    "                print('Give a proper position')\n",
    "                \n",
    "        #Check end game\n",
    "        flag1,flag2 = check_game(board,player1_mark)\n",
    "        if (not flag1) or (flag2):\n",
    "            if not flag2:\n",
    "                print('Game ends with a draw')\n",
    "            break"
   ]
  },
  {
   "cell_type": "code",
   "execution_count": 7,
   "metadata": {},
   "outputs": [
    {
     "name": "stdout",
     "output_type": "stream",
     "text": [
      "    |  X  |    \n",
      " X  |  X  |  O \n",
      " O  |  X  |  O \n",
      "Congratulation! Player X won.\n"
     ]
    }
   ],
   "source": [
    "play_game()"
   ]
  }
 ],
 "metadata": {
  "kernelspec": {
   "display_name": "Python 3",
   "language": "python",
   "name": "python3"
  },
  "language_info": {
   "codemirror_mode": {
    "name": "ipython",
    "version": 3
   },
   "file_extension": ".py",
   "mimetype": "text/x-python",
   "name": "python",
   "nbconvert_exporter": "python",
   "pygments_lexer": "ipython3",
   "version": "3.7.4"
  }
 },
 "nbformat": 4,
 "nbformat_minor": 4
}
